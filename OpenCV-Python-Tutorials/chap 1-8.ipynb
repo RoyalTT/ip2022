{
 "cells": [
  {
   "cell_type": "code",
   "execution_count": 1,
   "id": "5200a2cc",
   "metadata": {},
   "outputs": [
    {
     "name": "stdout",
     "output_type": "stream",
     "text": [
      "(404, 750, 3)\n",
      "909000\n"
     ]
    }
   ],
   "source": [
    "import cv2\n",
    "import numpy as np\n",
    "\n",
    "\n",
    "img = cv2.imread('color.jpg', cv2.WINDOW_NORMAL)\n",
    "img2 =cv2.imread('color.jpg', cv2.COLOR_BGR2RGB)\n",
    "\n",
    "for i in range(150):\n",
    "    for j in range(150):\n",
    "        img2.itemset((150+i,300+j,1),10)\n",
    "\n",
    "print(img2.shape)\n",
    "print(img2.size)\n",
    "cv2.imshow('image2',img2)\n",
    "cv2.waitKey(0) # 키보드 입력을 대기하는 함수, milisecond값을 넣으면 해당 시간동안 대기, 0인경우 무한으로 대기\n",
    "cv2.destroyAllWindows() #"
   ]
  },
  {
   "cell_type": "code",
   "execution_count": 2,
   "id": "462bda80",
   "metadata": {},
   "outputs": [],
   "source": [
    "import cv2\n",
    "import numpy as np\n",
    "\n",
    "\n",
    "img = cv2.imread('color.jpg', cv2.COLOR_BGR2RGB)\n",
    "\n",
    "b,g,r = cv2.split(img)\n",
    "img = cv2.merge((b,g,r))\n",
    "#b = img[:,:,0]\n",
    "#img[:100,:200,2] = 0\n",
    "\n",
    "cv2.imshow('image',img)\n",
    "cv2.waitKey(0)\n",
    "cv2.destroyAllWindows() "
   ]
  },
  {
   "cell_type": "code",
   "execution_count": null,
   "id": "67ae9583",
   "metadata": {},
   "outputs": [],
   "source": []
  }
 ],
 "metadata": {
  "kernelspec": {
   "display_name": "Python 3 (ipykernel)",
   "language": "python",
   "name": "python3"
  },
  "language_info": {
   "codemirror_mode": {
    "name": "ipython",
    "version": 3
   },
   "file_extension": ".py",
   "mimetype": "text/x-python",
   "name": "python",
   "nbconvert_exporter": "python",
   "pygments_lexer": "ipython3",
   "version": "3.9.12"
  }
 },
 "nbformat": 4,
 "nbformat_minor": 5
}
