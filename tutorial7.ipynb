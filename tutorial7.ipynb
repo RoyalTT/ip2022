{
  "nbformat": 4,
  "nbformat_minor": 0,
  "metadata": {
    "colab": {
      "provenance": [],
      "collapsed_sections": []
    },
    "kernelspec": {
      "name": "python3",
      "display_name": "Python 3"
    },
    "language_info": {
      "name": "python"
    }
  },
  "cells": [
    {
      "cell_type": "code",
      "execution_count": null,
      "metadata": {
        "id": "8Zg-ZbtXBtQS"
      },
      "outputs": [],
      "source": [
        "# [ expression for name in list ]"
      ]
    },
    {
      "cell_type": "code",
      "source": [
        "li = [3, 6, 2, 7]"
      ],
      "metadata": {
        "id": "mKR0JZJyB9L3"
      },
      "execution_count": null,
      "outputs": []
    },
    {
      "cell_type": "code",
      "source": [
        "[elem*2 for elem in li]"
      ],
      "metadata": {
        "colab": {
          "base_uri": "https://localhost:8080/"
        },
        "id": "conCZ6ZpB9ij",
        "outputId": "ce3c8853-5d59-4faf-a5e2-e6c2272a6326"
      },
      "execution_count": null,
      "outputs": [
        {
          "output_type": "execute_result",
          "data": {
            "text/plain": [
              "[6, 12, 4, 14]"
            ]
          },
          "metadata": {},
          "execution_count": 2
        }
      ]
    },
    {
      "cell_type": "code",
      "source": [
        "li = [('a', 1), ('b', 2),('c', 7)]"
      ],
      "metadata": {
        "id": "H3bB4Vs8B9pB"
      },
      "execution_count": null,
      "outputs": []
    },
    {
      "cell_type": "code",
      "source": [
        "[n*3 for (x,n) in li]"
      ],
      "metadata": {
        "colab": {
          "base_uri": "https://localhost:8080/"
        },
        "id": "vkN-5TqCB9sz",
        "outputId": "141f2905-bbe0-4861-ebfa-3ddb1ed3a3b7"
      },
      "execution_count": null,
      "outputs": [
        {
          "output_type": "execute_result",
          "data": {
            "text/plain": [
              "[3, 6, 21]"
            ]
          },
          "metadata": {},
          "execution_count": 4
        }
      ]
    },
    {
      "cell_type": "code",
      "source": [
        "li = [3, 6, 2, 7, 1, 9]"
      ],
      "metadata": {
        "id": "-9a-oLkGB9wX"
      },
      "execution_count": null,
      "outputs": []
    },
    {
      "cell_type": "code",
      "source": [
        "[elem*2 for elem in li if elem>4]"
      ],
      "metadata": {
        "colab": {
          "base_uri": "https://localhost:8080/"
        },
        "id": "Ut0O1tiGB9zM",
        "outputId": "76d3ba36-2e7e-4e9e-d4a4-314e1fdc9b98"
      },
      "execution_count": null,
      "outputs": [
        {
          "output_type": "execute_result",
          "data": {
            "text/plain": [
              "[12, 14, 18]"
            ]
          },
          "metadata": {},
          "execution_count": 6
        }
      ]
    },
    {
      "cell_type": "code",
      "source": [
        "li = [3, 2, 4, 1]"
      ],
      "metadata": {
        "id": "gtNWbG1-B92J"
      },
      "execution_count": null,
      "outputs": []
    },
    {
      "cell_type": "code",
      "source": [
        "[elem*2 for elem in [item+1 for item in li]]"
      ],
      "metadata": {
        "colab": {
          "base_uri": "https://localhost:8080/"
        },
        "id": "0k95a-RUCcy0",
        "outputId": "cfcf0d73-59ab-48c7-ef08-af1129d755a4"
      },
      "execution_count": null,
      "outputs": [
        {
          "output_type": "execute_result",
          "data": {
            "text/plain": [
              "[8, 6, 10, 4]"
            ]
          },
          "metadata": {},
          "execution_count": 8
        }
      ]
    },
    {
      "cell_type": "code",
      "source": [],
      "metadata": {
        "id": "e12-TsR3ChIg"
      },
      "execution_count": null,
      "outputs": []
    }
  ]
}