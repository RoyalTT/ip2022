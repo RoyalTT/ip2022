{
 "cells": [
  {
   "cell_type": "code",
   "execution_count": 22,
   "id": "39124d27",
   "metadata": {},
   "outputs": [],
   "source": [
    "import cv2\n",
    "import numpy as np\n",
    "import time\n",
    "def nothing(x):\n",
    "    pass\n",
    "cap = cv2.VideoCapture(\"track1.mp4\")\n",
    "cap.set(cv2.CAP_PROP_FPS,10)\n",
    "prev_time = 0\n",
    "FPS = 60\n",
    "lower_yellow = np.array([24,95,151])\n",
    "upper_yellow = np.array([88,255,255])\n",
    "while True:\n",
    "    ret, frame = cap.read()\n",
    "    if ret == False:\n",
    "        break  \n",
    "    current_time = time.time() - prev_time\n",
    "\n",
    "    if (ret is True) and (current_time > 1./ FPS) :\n",
    "        hsv = cv2.cvtColor(frame, cv2.COLOR_BGR2HSV)\n",
    "\n",
    "        mask = cv2.inRange(hsv, lower_yellow, upper_yellow)\n",
    "    \n",
    "        result = cv2.bitwise_and(frame, frame, mask=mask)\n",
    "    \n",
    "        prev_time = time.time()\n",
    "        \n",
    "        cv2.imshow(\"frame\", frame)\n",
    "        cv2.imshow(\"mask\", mask)\n",
    "        cv2.imshow(\"result\", result)\n",
    "    \n",
    "    \n",
    "    key = cv2.waitKey(1)\n",
    "    if key == 27:\n",
    "        break\n",
    "cap.release()\n",
    "cv2.destroyAllWindows()"
   ]
  },
  {
   "cell_type": "code",
   "execution_count": 20,
   "id": "792bf573",
   "metadata": {},
   "outputs": [],
   "source": []
  },
  {
   "cell_type": "code",
   "execution_count": null,
   "id": "e8a70c26",
   "metadata": {},
   "outputs": [],
   "source": []
  }
 ],
 "metadata": {
  "kernelspec": {
   "display_name": "Python 3 (ipykernel)",
   "language": "python",
   "name": "python3"
  },
  "language_info": {
   "codemirror_mode": {
    "name": "ipython",
    "version": 3
   },
   "file_extension": ".py",
   "mimetype": "text/x-python",
   "name": "python",
   "nbconvert_exporter": "python",
   "pygments_lexer": "ipython3",
   "version": "3.9.7"
  }
 },
 "nbformat": 4,
 "nbformat_minor": 5
}
