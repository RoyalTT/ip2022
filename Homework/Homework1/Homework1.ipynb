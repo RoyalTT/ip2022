{
 "cells": [
  {
   "cell_type": "code",
   "execution_count": 2,
   "id": "bcbbdd32",
   "metadata": {},
   "outputs": [],
   "source": []
  },
  {
   "cell_type": "code",
   "execution_count": 21,
   "id": "99a00cb6",
   "metadata": {},
   "outputs": [
    {
     "name": "stdout",
     "output_type": "stream",
     "text": [
      "(404, 750, 3)\n"
     ]
    }
   ],
   "source": [
    "import cv2\n",
    "import numpy as np\n",
    "drawing = False\n",
    "mode = True\n",
    "ix,iy = 0,0\n",
    "ex,ey = 0,0\n",
    "font = cv2.FONT_HERSHEY_SIMPLEX\n",
    "def nothing(x):\n",
    "    pass\n",
    "\n",
    "def draw_rec(event,x,y,flags,param):\n",
    "    global ix,iy,drawing,mode,font,img,ex,ey,v\n",
    "    if event == cv2.EVENT_LBUTTONDOWN:\n",
    "        img = cv2.imread(\"apo.jpg\")\n",
    "        drawing = True\n",
    "        ix,iy = x,y\n",
    "        ex,ey = x,y\n",
    "    elif event == cv2.EVENT_MOUSEMOVE:\n",
    "        if drawing == True:  \n",
    "            if mode == True:\n",
    "                img = cv2.imread(\"apo.jpg\")\n",
    "                cv2.rectangle(img,(ix,iy),(x,y),(0,255,0),1)\n",
    "                cv2.putText(img,\"Mouse position(\"+str(ix)+\",\"+str(iy)+\")\"+\" - \"+\"(\"+str(x)+\",\"+str(y)+\") - 0 - 3\",(0,20), font, 0.6,(255,255,255),2,cv2.LINE_AA)\n",
    "\n",
    "    elif event == cv2.EVENT_LBUTTONUP:\n",
    "        drawing = False\n",
    "        if mode == True:\n",
    "            cv2.rectangle(img,(ix,iy),(x,y),(0,255,0),1)\n",
    "            ex = x\n",
    "            ey = y\n",
    "\n",
    "img = cv2.imread(\"apo.jpg\")\n",
    "img2 = cv2.imread(\"apo.jpg\")\n",
    "cv2.namedWindow('image')\n",
    "cv2.setMouseCallback('image',draw_rec)\n",
    "cv2.createTrackbar('value','image',0,2,nothing)\n",
    "print(img.shape)\n",
    "while True:\n",
    "    v = cv2.getTrackbarPos('value','image')\n",
    "    if (iy<ey) and(ix<ex):\n",
    "        img[iy:ey,ix:ex] = img2[iy:ey,ix:ex]\n",
    "        img[iy:ey,ix:ex,v] = 200\n",
    "    elif (iy>ey) and (ix<ex):\n",
    "        img[ey:iy,ix:ex] = img2[ey:iy,ix:ex]\n",
    "        img[ey:iy,ix:ex,v] = 200\n",
    "    elif (iy<ey) and (ix>ex):\n",
    "        img[iy:ey,ex:ix] =img2[iy:ey,ex:ix]\n",
    "        img[iy:ey,ex:ix,v] = 200\n",
    "    else:\n",
    "        img[ey:iy,ex:ix] =img2[ey:iy,ex:ix]\n",
    "        img[ey:iy,ex:ix,v] = 200\n",
    "    cv2.imshow(\"image\",img)\n",
    "    k = cv2.waitKey(1)\n",
    "    if k == ord(\"q\"):\n",
    "        break\n",
    "cv2.destroyAllWindows()"
   ]
  },
  {
   "cell_type": "code",
   "execution_count": null,
   "id": "a0d2db53",
   "metadata": {},
   "outputs": [],
   "source": []
  },
  {
   "cell_type": "code",
   "execution_count": null,
   "id": "02529a1a",
   "metadata": {},
   "outputs": [],
   "source": []
  }
 ],
 "metadata": {
  "kernelspec": {
   "display_name": "Python 3 (ipykernel)",
   "language": "python",
   "name": "python3"
  },
  "language_info": {
   "codemirror_mode": {
    "name": "ipython",
    "version": 3
   },
   "file_extension": ".py",
   "mimetype": "text/x-python",
   "name": "python",
   "nbconvert_exporter": "python",
   "pygments_lexer": "ipython3",
   "version": "3.9.7"
  }
 },
 "nbformat": 4,
 "nbformat_minor": 5
}
