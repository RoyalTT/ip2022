{
  "nbformat": 4,
  "nbformat_minor": 0,
  "metadata": {
    "colab": {
      "provenance": [],
      "collapsed_sections": []
    },
    "kernelspec": {
      "name": "python3",
      "display_name": "Python 3"
    },
    "language_info": {
      "name": "python"
    }
  },
  "cells": [
    {
      "cell_type": "code",
      "execution_count": null,
      "metadata": {
        "id": "wGBedOxQByvC"
      },
      "outputs": [],
      "source": [
        "x = 3"
      ]
    },
    {
      "cell_type": "code",
      "source": [
        "if x == 3:\n",
        "  print(\"X equals 3.\") \n",
        "elif x == 2:\n",
        "  print(\"X equals 2.\")\n",
        "else:\n",
        "  print(\"X equals something else.\")\n",
        "print(\"This is outside the 'if\")"
      ],
      "metadata": {
        "colab": {
          "base_uri": "https://localhost:8080/"
        },
        "id": "Rx6aclwfB8EN",
        "outputId": "801bb9fd-0035-4bc9-eee3-cca5fc3cd4be"
      },
      "execution_count": null,
      "outputs": [
        {
          "output_type": "stream",
          "name": "stdout",
          "text": [
            "X equals 3.\n",
            "This is outside the 'if\n"
          ]
        }
      ]
    },
    {
      "cell_type": "code",
      "source": [
        "x = 3"
      ],
      "metadata": {
        "id": "YM3du70SCE2s"
      },
      "execution_count": null,
      "outputs": []
    },
    {
      "cell_type": "code",
      "source": [
        "while x < 5:\n",
        "  print(x, \"still in the loop\")\n",
        "  x = x+1"
      ],
      "metadata": {
        "colab": {
          "base_uri": "https://localhost:8080/"
        },
        "id": "lplJ4ygPCa08",
        "outputId": "49ba3083-c177-49ac-c31a-4780072079a9"
      },
      "execution_count": null,
      "outputs": [
        {
          "output_type": "stream",
          "name": "stdout",
          "text": [
            "3 still in the loop\n",
            "4 still in the loop\n"
          ]
        }
      ]
    },
    {
      "cell_type": "code",
      "source": [
        "x = 6\n",
        "while x < 5:\n",
        "  print(x, \"still in the loop\")"
      ],
      "metadata": {
        "id": "Akza1lPfCfMU"
      },
      "execution_count": null,
      "outputs": []
    },
    {
      "cell_type": "code",
      "source": [
        "assert(2<5)"
      ],
      "metadata": {
        "id": "y5VTXf1_CkJ8"
      },
      "execution_count": null,
      "outputs": []
    },
    {
      "cell_type": "code",
      "source": [],
      "metadata": {
        "id": "vNLV1UXzCoDk"
      },
      "execution_count": null,
      "outputs": []
    }
  ]
}